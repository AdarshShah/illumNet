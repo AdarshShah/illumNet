{
  "cells": [
    {
      "cell_type": "markdown",
      "metadata": {
        "id": "view-in-github",
        "colab_type": "text"
      },
      "source": [
        "<a href=\"https://colab.research.google.com/github/AdarshShah/illumNet/blob/main/ImageEnhancement.ipynb\" target=\"_parent\"><img src=\"https://colab.research.google.com/assets/colab-badge.svg\" alt=\"Open In Colab\"/></a>"
      ]
    },
    {
      "cell_type": "markdown",
      "metadata": {
        "id": "kNtV8FFvnGYg"
      },
      "source": [
        "# An Approach to Image Enhancement using Low Light Net (LLNet)\n",
        "Adarsh Shah, MTech (A.I.)\n",
        "\n",
        "[adarshshah@iisc.ac.in](adarshshah@iisc.ac.in)\n",
        "\n",
        "[LLNet](https://www.sciencedirect.com/science/article/pii/S003132031630125X?casa_token=iWWVnisqhCkAAAAA:j5fneY7SDdkzJ2okhWA2N807cXYg57fY4CIpCbAD2tESbw2Mwf9buVbuJwCphbaphLiTTig-ioU:)\n",
        "\n",
        "\n"
      ]
    },
    {
      "cell_type": "code",
      "execution_count": 1,
      "metadata": {
        "id": "op-xl28Pxu8F"
      },
      "outputs": [],
      "source": [
        "import numpy as np\n",
        "\n",
        "from skimage import img_as_float\n",
        "from skimage.io import imread_collection, imread, imsave\n",
        "from skimage.transform import resize\n",
        "from skimage.metrics import structural_similarity\n",
        "from skimage.color import rgb2hsv, hsv2rgb\n",
        "\n",
        "import tensorflow as tf\n",
        "from tensorflow.keras.models import Model\n",
        "from tensorflow.keras.layers import Input, Conv2D, BatchNormalization, MaxPool2D, Conv2DTranspose, Reshape\n",
        "from tensorflow.keras.optimizers import Adam\n",
        "from tensorflow.keras.losses import mean_squared_error\n",
        "from tensorflow.keras.activations import relu\n",
        "from tensorflow.keras.metrics import mean_squared_error\n",
        "\n",
        "from matplotlib import pyplot as plt"
      ]
    },
    {
      "cell_type": "code",
      "source": [
        "import os\n",
        "\n",
        "os.environ[\"CUDA_VISIBLE_DEVICES\"] = '0'"
      ],
      "metadata": {
        "id": "wIyu1zLcmP2A"
      },
      "execution_count": 17,
      "outputs": []
    },
    {
      "cell_type": "code",
      "source": [
        "physical_devices = list(tf.config.experimental.list_physical_devices('GPU'))\n",
        "for gpu in physical_devices:\n",
        "  print(gpu)\n",
        "  tf.config.experimental.set_memory_growth(gpu,True)"
      ],
      "metadata": {
        "id": "H7laB2B97Pii"
      },
      "execution_count": 18,
      "outputs": []
    },
    {
      "cell_type": "code",
      "source": [
        "list(tf.config.experimental.list_physical_devices())"
      ],
      "metadata": {
        "colab": {
          "base_uri": "https://localhost:8080/"
        },
        "id": "IBGPwciMmZKj",
        "outputId": "e1f04015-669a-4c33-f817-1c36cf4315ee"
      },
      "execution_count": 16,
      "outputs": [
        {
          "output_type": "execute_result",
          "data": {
            "text/plain": [
              "[PhysicalDevice(name='/physical_device:CPU:0', device_type='CPU')]"
            ]
          },
          "metadata": {},
          "execution_count": 16
        }
      ]
    },
    {
      "cell_type": "markdown",
      "metadata": {
        "id": "s2z5Zx-guRRi"
      },
      "source": [
        "### 1.0 Data Preparation"
      ]
    },
    {
      "cell_type": "code",
      "execution_count": null,
      "metadata": {
        "id": "rN_sNmjanAKc"
      },
      "outputs": [],
      "source": [
        "! mkdir ~/.kaggle\n",
        "! cp kaggle.json ~/.kaggle/\n",
        "! chmod 600 ~/.kaggle/kaggle.json\n",
        "! kaggle datasets download -d gujjugodfather/imageenhancement"
      ]
    },
    {
      "cell_type": "code",
      "execution_count": null,
      "metadata": {
        "id": "_5ZIDulnvGC3"
      },
      "outputs": [],
      "source": [
        "! unzip imageenhancement.zip"
      ]
    },
    {
      "cell_type": "code",
      "execution_count": 20,
      "metadata": {
        "id": "eHuBbohvxis_"
      },
      "outputs": [],
      "source": [
        "data = imread_collection(['./dped/dped/iphone/training_data/iphone/*'],conserve_memory=False)\n",
        "xtrain = list()\n",
        "for i,file in enumerate(data.files[:20000]):\n",
        "  xtrain.append(rgb2hsv(img_as_float(data.load_func(file))))"
      ]
    },
    {
      "cell_type": "code",
      "execution_count": 21,
      "metadata": {
        "id": "bMnvgCcYx3CA"
      },
      "outputs": [],
      "source": [
        "data = imread_collection(['./dped/dped/iphone/training_data/canon/*'],conserve_memory=False)\n",
        "ytrain = list()\n",
        "for i,file in enumerate(data.files[:20000]):\n",
        "  ytrain.append(rgb2hsv(img_as_float(data.load_func(file))))"
      ]
    },
    {
      "cell_type": "code",
      "execution_count": 22,
      "metadata": {
        "id": "IqjOg-iJ0LFl"
      },
      "outputs": [],
      "source": [
        "data = imread_collection(['./dped/dped/iphone/test_data/patches/iphone/*'],conserve_memory=False)\n",
        "xtest = list()\n",
        "for i,file in enumerate(data.files[:2000]):\n",
        "  xtest.append(rgb2hsv(img_as_float(data.load_func(file))))"
      ]
    },
    {
      "cell_type": "code",
      "execution_count": 23,
      "metadata": {
        "id": "DH_7n83czRoN"
      },
      "outputs": [],
      "source": [
        "data = imread_collection(['./dped/dped/iphone/test_data/patches/canon/*'],conserve_memory=False)\n",
        "ytest = list()\n",
        "for i,file in enumerate(data.files[:2000]):\n",
        "  ytest.append(rgb2hsv(img_as_float(data.load_func(file))))"
      ]
    },
    {
      "cell_type": "code",
      "source": [
        "xtrain = np.array(xtrain)\n",
        "ytrain = np.array(ytrain)\n",
        "xtest = np.array(xtest)\n",
        "ytest = np.array(ytest)"
      ],
      "metadata": {
        "id": "fLaxIq5P6w75"
      },
      "execution_count": 24,
      "outputs": []
    },
    {
      "cell_type": "code",
      "source": [
        "Xt = xtrain[:,:,:,2]\n",
        "Yt = ytrain[:,:,:,2]\n",
        "Xtest = xtest[:,:,:,2]\n",
        "Ytest = ytest[:,:,:,2]"
      ],
      "metadata": {
        "id": "PZmfDz516tIw"
      },
      "execution_count": 25,
      "outputs": []
    },
    {
      "cell_type": "markdown",
      "metadata": {
        "id": "A5nkSu0Z0jOR"
      },
      "source": [
        "### 2.0 SSDA based auto encoder"
      ]
    },
    {
      "cell_type": "code",
      "execution_count": 39,
      "metadata": {
        "id": "1EbkCjf_0e2t"
      },
      "outputs": [],
      "source": [
        "x = Input(shape=(100,100,3))\n",
        "\n",
        "layer11 = Conv2D(filters=128,kernel_size=(7,7),strides=(1,1),padding='same',activation=relu)(x)\n",
        "layer12 = Conv2D(filters=32,kernel_size=(3,3),strides=(2,2),padding='same',activation=relu)(layer11)\n",
        "layer13 = Conv2D(filters=16,kernel_size=(3,3),strides=(2,2),padding='same',activation=relu)(layer12)\n",
        "\n",
        "layer16 = Conv2DTranspose(filters=32,kernel_size=(3,3),strides=(2,2),padding='same',activation=relu)(layer13)\n",
        "layer17 = Conv2DTranspose(filters=128,kernel_size=(3,3),strides=(2,2),padding='same',activation=relu)(layer16)\n",
        "layer18 = Conv2DTranspose(filters=3,kernel_size=(7,7),strides=(1,1),padding='same',activation=relu)(layer17)\n",
        "\n",
        "layer21 = Conv2D(filters=128,kernel_size=(7,7),strides=(1,1),padding='same',activation=relu)(layer18)\n",
        "layer22 = Conv2D(filters=32,kernel_size=(3,3),strides=(2,2),padding='same',activation=relu)(layer21)\n",
        "layer23 = Conv2D(filters=16,kernel_size=(3,3),strides=(2,2),padding='same',activation=relu)(layer22)\n",
        "\n",
        "layer26 = Conv2DTranspose(filters=32,kernel_size=(3,3),strides=(2,2),padding='same',activation=relu)(layer23)\n",
        "layer27 = Conv2DTranspose(filters=128,kernel_size=(3,3),strides=(2,2),padding='same',activation=relu)(layer26)\n",
        "layer28 = Conv2DTranspose(filters=1,kernel_size=(7,7),strides=(1,1),padding='same',activation='sigmoid')(layer27)\n",
        "\n",
        "'''\n",
        "layer31 = Conv2D(filters=128,kernel_size=(7,7),strides=(1,1),padding='same',activation=relu)(layer28)\n",
        "layer32 = Conv2D(filters=32,kernel_size=(3,3),strides=(2,2),padding='same',activation=relu)(layer31)\n",
        "layer33 = Conv2D(filters=16,kernel_size=(3,3),strides=(2,2),padding='same',activation=relu)(layer32)\n",
        "\n",
        "layer36 = Conv2DTranspose(filters=32,kernel_size=(3,3),strides=(2,2),padding='same',activation=relu)(layer33)\n",
        "layer37 = Conv2DTranspose(filters=128,kernel_size=(3,3),strides=(2,2),padding='same',activation=relu)(layer36)\n",
        "layer38 = Conv2DTranspose(filters=1,kernel_size=(7,7),strides=(1,1),padding='same',activation=relu)(layer37)\n",
        "'''\n",
        "y = Reshape((100,100,1))(layer28)"
      ]
    },
    {
      "cell_type": "code",
      "execution_count": 40,
      "metadata": {
        "id": "HrWg71GbDXar",
        "colab": {
          "base_uri": "https://localhost:8080/"
        },
        "outputId": "be05335d-9f60-4757-e8c0-de3ae4977392"
      },
      "outputs": [
        {
          "output_type": "stream",
          "name": "stdout",
          "text": [
            "Model: \"model_1\"\n",
            "_________________________________________________________________\n",
            " Layer (type)                Output Shape              Param #   \n",
            "=================================================================\n",
            " input_4 (InputLayer)        [(None, 100, 100, 3)]     0         \n",
            "                                                                 \n",
            " conv2d_18 (Conv2D)          (None, 100, 100, 128)     18944     \n",
            "                                                                 \n",
            " conv2d_19 (Conv2D)          (None, 50, 50, 32)        36896     \n",
            "                                                                 \n",
            " conv2d_20 (Conv2D)          (None, 25, 25, 16)        4624      \n",
            "                                                                 \n",
            " conv2d_transpose_17 (Conv2D  (None, 50, 50, 32)       4640      \n",
            " Transpose)                                                      \n",
            "                                                                 \n",
            " conv2d_transpose_18 (Conv2D  (None, 100, 100, 128)    36992     \n",
            " Transpose)                                                      \n",
            "                                                                 \n",
            " conv2d_transpose_19 (Conv2D  (None, 100, 100, 3)      18819     \n",
            " Transpose)                                                      \n",
            "                                                                 \n",
            " conv2d_21 (Conv2D)          (None, 100, 100, 128)     18944     \n",
            "                                                                 \n",
            " conv2d_22 (Conv2D)          (None, 50, 50, 32)        36896     \n",
            "                                                                 \n",
            " conv2d_23 (Conv2D)          (None, 25, 25, 16)        4624      \n",
            "                                                                 \n",
            " conv2d_transpose_20 (Conv2D  (None, 50, 50, 32)       4640      \n",
            " Transpose)                                                      \n",
            "                                                                 \n",
            " conv2d_transpose_21 (Conv2D  (None, 100, 100, 128)    36992     \n",
            " Transpose)                                                      \n",
            "                                                                 \n",
            " conv2d_transpose_22 (Conv2D  (None, 100, 100, 1)      6273      \n",
            " Transpose)                                                      \n",
            "                                                                 \n",
            " reshape_2 (Reshape)         (None, 100, 100, 1)       0         \n",
            "                                                                 \n",
            "=================================================================\n",
            "Total params: 229,284\n",
            "Trainable params: 229,284\n",
            "Non-trainable params: 0\n",
            "_________________________________________________________________\n"
          ]
        }
      ],
      "source": [
        "llnet = Model(x,y)\n",
        "llnet.summary()"
      ]
    },
    {
      "cell_type": "code",
      "execution_count": 41,
      "metadata": {
        "id": "jdXbuoaJnCFy"
      },
      "outputs": [],
      "source": [
        "def myloss(im1,im2):\n",
        "  return 1-tf.image.ssim(im1,im2,1)\n",
        "\n",
        "llnet.compile(optimizer=Adam(),loss=mean_squared_error,metrics=[mean_squared_error])"
      ]
    },
    {
      "cell_type": "code",
      "execution_count": null,
      "metadata": {
        "id": "iB2gYSwQEu26",
        "colab": {
          "base_uri": "https://localhost:8080/"
        },
        "outputId": "498ae535-f42a-4257-f0b6-55d305423c23"
      },
      "outputs": [
        {
          "output_type": "stream",
          "name": "stdout",
          "text": [
            "141/625 [=====>........................] - ETA: 8:03 - loss: 0.0369 - mean_squared_error: 0.0369"
          ]
        }
      ],
      "source": [
        "llnet.fit(x=xtrain,y=Yt,validation_data=(xtest,Ytest),batch_size=32,epochs=1)"
      ]
    },
    {
      "cell_type": "markdown",
      "metadata": {
        "id": "WjMCoWR-GB5j"
      },
      "source": [
        "### 3.0 Evaluation\n",
        "\n",
        "Using Structural Similarity Index"
      ]
    },
    {
      "cell_type": "code",
      "source": [
        "ypredict = llnet.predict(Ytest)"
      ],
      "metadata": {
        "id": "16pm9EKL6-1_"
      },
      "execution_count": 69,
      "outputs": []
    },
    {
      "cell_type": "code",
      "source": [
        "ypredict.shape"
      ],
      "metadata": {
        "colab": {
          "base_uri": "https://localhost:8080/"
        },
        "id": "SkfCiwFSfzVx",
        "outputId": "d1cf15bf-5c82-4433-cfa4-863365348f8f"
      },
      "execution_count": 71,
      "outputs": [
        {
          "output_type": "execute_result",
          "data": {
            "text/plain": [
              "(2000, 100, 100, 1)"
            ]
          },
          "metadata": {},
          "execution_count": 71
        }
      ]
    },
    {
      "cell_type": "code",
      "source": [
        "sum = 0\n",
        "for a,b in zip(ypredict,Ytest):\n",
        "    sum += structural_similarity(np.reshape(a,(100,100)),np.reshape(b,(100,100)))\n",
        "sum /= len(Ytest)\n",
        "print(sum)"
      ],
      "metadata": {
        "id": "zXr-mB1A7B7a"
      },
      "execution_count": null,
      "outputs": []
    },
    {
      "cell_type": "code",
      "source": [
        "i = np.random.randint(len(ytest))\n",
        "plt.subplot(131)\n",
        "plt.imshow(hsv2rgb(xtest[i]),'brg')\n",
        "plt.subplot(132)\n",
        "plt.imshow(hsv2rgb(ytest[i]),'brg')\n",
        "plt.subplot(133)\n",
        "img = xtest[i]\n",
        "img[:,:,2] = np.reshape(ypredict[i],(100,100))\n",
        "plt.imshow(hsv2rgb(img),'brg')\n",
        "plt.show()\n",
        "plt.clf()"
      ],
      "metadata": {
        "colab": {
          "base_uri": "https://localhost:8080/",
          "height": 167
        },
        "id": "vcenhSDh7CZP",
        "outputId": "4f95f0f3-eedb-4308-b82d-3e168977b580"
      },
      "execution_count": 80,
      "outputs": [
        {
          "output_type": "display_data",
          "data": {
            "text/plain": [
              "<Figure size 432x288 with 3 Axes>"
            ],
            "image/png": "[encoded data removed]"
          },
          "metadata": {
            "needs_background": "light"
          }
        },
        {
          "output_type": "display_data",
          "data": {
            "text/plain": [
              "<Figure size 432x288 with 0 Axes>"
            ]
          },
          "metadata": {}
        }
      ]
    },
    {
      "cell_type": "markdown",
      "source": [
        "### 4.0 Test on Real Images"
      ],
      "metadata": {
        "id": "871uOMMc6MYw"
      }
    },
    {
      "cell_type": "code",
      "source": [
        "data = imread_collection(['./dped/dped/iphone/test_data/full_size_test_images/*'],conserve_memory=False)"
      ],
      "metadata": {
        "id": "GWXGYBC76JQV"
      },
      "execution_count": 30,
      "outputs": []
    },
    {
      "cell_type": "code",
      "source": [
        "I = np.random.randint(len(data.files))\n",
        "image = imread(data.files[I])\n",
        "\n",
        "image = rgb2hsv(img_as_float(image))\n",
        "\n",
        "plt.subplot(121)\n",
        "plt.imshow(hsv2rgb(image),'brg')\n",
        "\n",
        "P,Q,_ = image.shape\n",
        "P_n = P + 100 - P%100\n",
        "Q_n = Q + 100 - Q%100\n",
        "\n",
        "image = resize(image,(P_n,Q_n))\n",
        "\n",
        "for i in range(P_n//100):\n",
        "    for j in range(Q_n//100):\n",
        "        illum = image[100*i:100*(i+1),100*j:100*(j+1),:]\n",
        "        illum = np.reshape(illum,(1,100,100,3))\n",
        "        illum = llnet.predict(illum)\n",
        "        illum = np.reshape(illum,(100,100))\n",
        "        image[100*i:100*(i+1),100*j:100*(j+1),2] = illum\n",
        "\n",
        "\n",
        "\n",
        "image = resize(image,(P,Q))\n",
        "plt.subplot(122)\n",
        "plt.imshow(hsv2rgb(image),'brg')\n",
        "plt.show()\n",
        "plt.clf()"
      ],
      "metadata": {
        "id": "y6Xj2uRX6IlF"
      },
      "execution_count": null,
      "outputs": []
    }
  ],
  "metadata": {
    "accelerator": "GPU",
    "colab": {
      "collapsed_sections": [],
      "name": "ImageEnhancement.ipynb",
      "provenance": [],
      "authorship_tag": "ABX9TyPk4S2b4TtIT0ThGbvrcBpR",
      "include_colab_link": true
    },
    "kernelspec": {
      "display_name": "Python 3",
      "name": "python3"
    },
    "language_info": {
      "name": "python"
    }
  },
  "nbformat": 4,
  "nbformat_minor": 0
}